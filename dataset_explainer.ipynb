{
 "cells": [
  {
   "cell_type": "markdown",
   "metadata": {},
   "source": [
    "## Import all necessary libraries"
   ]
  },
  {
   "cell_type": "markdown",
   "metadata": {},
   "source": [
    "### Sentinel-2 Image Preprocessing for Image Matching Tasks\n",
    "\n",
    " This notebook demonstrates how to preprocess Sentinel-2 .SAFE data for image matching tasks. Sentinel-2 data is stored in a .SAFE format,   which includes multiple spectral bands as .jp2 files. We'll preprocess these images to resize them to a consistent size, normalize their values, and save them in a usable format for downstream tasks.\n",
    "\n"
   ]
  },
  {
   "cell_type": "code",
   "execution_count": 7,
   "metadata": {},
   "outputs": [
    {
     "name": "stdout",
     "output_type": "stream",
     "text": [
      "Defaulting to user installation because normal site-packages is not writeable\n",
      "Requirement already satisfied: rasterio in /home/nikolay/.local/lib/python3.10/site-packages (1.4.3)\n",
      "Requirement already satisfied: pyparsing in /usr/lib/python3/dist-packages (from rasterio) (2.4.7)\n",
      "Requirement already satisfied: click>=4.0 in /home/nikolay/.local/lib/python3.10/site-packages (from rasterio) (8.1.7)\n",
      "Requirement already satisfied: numpy>=1.24 in /home/nikolay/.local/lib/python3.10/site-packages (from rasterio) (2.1.2)\n",
      "Requirement already satisfied: certifi in /home/nikolay/.local/lib/python3.10/site-packages (from rasterio) (2024.8.30)\n",
      "Requirement already satisfied: affine in /home/nikolay/.local/lib/python3.10/site-packages (from rasterio) (2.4.0)\n",
      "Requirement already satisfied: click-plugins in /home/nikolay/.local/lib/python3.10/site-packages (from rasterio) (1.1.1)\n",
      "Requirement already satisfied: cligj>=0.5 in /home/nikolay/.local/lib/python3.10/site-packages (from rasterio) (0.7.2)\n",
      "Requirement already satisfied: attrs in /home/nikolay/.local/lib/python3.10/site-packages (from rasterio) (24.3.0)\n",
      "Defaulting to user installation because normal site-packages is not writeable\n",
      "Collecting scikit-image\n",
      "  Downloading scikit_image-0.25.0-cp310-cp310-manylinux_2_17_x86_64.manylinux2014_x86_64.whl (14.8 MB)\n",
      "\u001b[2K     \u001b[90m━━━━━━━━━━━━━━━━━━━━━━━━━━━━━━━━━━━━━━━━\u001b[0m \u001b[32m14.8/14.8 MB\u001b[0m \u001b[31m6.0 MB/s\u001b[0m eta \u001b[36m0:00:00\u001b[0m00:01\u001b[0m00:01\u001b[0m\n",
      "\u001b[?25hCollecting lazy-loader>=0.4\n",
      "  Downloading lazy_loader-0.4-py3-none-any.whl (12 kB)\n",
      "Requirement already satisfied: pillow>=10.1 in /home/nikolay/.local/lib/python3.10/site-packages (from scikit-image) (11.0.0)\n",
      "Requirement already satisfied: networkx>=3.0 in /home/nikolay/.local/lib/python3.10/site-packages (from scikit-image) (3.4.1)\n",
      "Requirement already satisfied: scipy>=1.11.2 in /home/nikolay/.local/lib/python3.10/site-packages (from scikit-image) (1.14.1)\n",
      "Requirement already satisfied: numpy>=1.24 in /home/nikolay/.local/lib/python3.10/site-packages (from scikit-image) (2.1.2)\n",
      "Collecting imageio!=2.35.0,>=2.33\n",
      "  Downloading imageio-2.36.1-py3-none-any.whl (315 kB)\n",
      "\u001b[2K     \u001b[90m━━━━━━━━━━━━━━━━━━━━━━━━━━━━━━━━━━━━━━━\u001b[0m \u001b[32m315.4/315.4 KB\u001b[0m \u001b[31m3.8 MB/s\u001b[0m eta \u001b[36m0:00:00\u001b[0ma \u001b[36m0:00:01\u001b[0m\n",
      "\u001b[?25hRequirement already satisfied: packaging>=21 in /home/nikolay/.local/lib/python3.10/site-packages (from scikit-image) (24.1)\n",
      "Collecting tifffile>=2022.8.12\n",
      "  Downloading tifffile-2024.12.12-py3-none-any.whl (227 kB)\n",
      "\u001b[2K     \u001b[90m━━━━━━━━━━━━━━━━━━━━━━━━━━━━━━━━━━━━━━━\u001b[0m \u001b[32m227.5/227.5 KB\u001b[0m \u001b[31m4.0 MB/s\u001b[0m eta \u001b[36m0:00:00\u001b[0ma \u001b[36m0:00:01\u001b[0m\n",
      "\u001b[?25hInstalling collected packages: tifffile, lazy-loader, imageio, scikit-image\n",
      "Successfully installed imageio-2.36.1 lazy-loader-0.4 scikit-image-0.25.0 tifffile-2024.12.12\n"
     ]
    }
   ],
   "source": [
    "!pip install rasterio\n",
    "!pip install scikit-image\n"
   ]
  },
  {
   "cell_type": "code",
   "execution_count": 8,
   "metadata": {},
   "outputs": [],
   "source": [
    "import os\n",
    "import cv2\n",
    "import glob\n",
    "import logging\n",
    "import numpy as np\n",
    "import rasterio # labraary for reading and writing raster data\n",
    "from rasterio.enums import Resampling # enum for resampling methods\n",
    "from skimage.transform import resize # library for resizing images\n"
   ]
  },
  {
   "cell_type": "markdown",
   "metadata": {},
   "source": [
    "#### Define Input Paths and Parameters\n",
    "- Define path to raw Sentinel-2 .SAFE data \n",
    "- output directory for raster images\n",
    "- target dimensions for resizing"
   ]
  },
  {
   "cell_type": "code",
   "execution_count": 10,
   "metadata": {},
   "outputs": [],
   "source": [
    "input_data_path = 'path to raw Sentinel-2 .SAFE data'\n",
    "output_data_path = 'Output directory'\n",
    "target_size = (224, 224)"
   ]
  },
  {
   "cell_type": "markdown",
   "metadata": {},
   "source": [
    "Some helper functions to ensure the output directory exists and to find all .SAFE folders in the input directory"
   ]
  },
  {
   "cell_type": "code",
   "execution_count": 11,
   "metadata": {},
   "outputs": [],
   "source": [
    "def ensure_output_directory(path):\n",
    "    if not os.path.exists(path):\n",
    "        logging.warning(f'Output directory {path} does not exist. Creating it...')\n",
    "        os.makedirs(path, exist_ok=True)\n",
    "\n",
    "def find_safe_folders(input_path):\n",
    "    return [os.path.join(input_path, f) for f in os.listdir(input_path) if os.path.isdir(os.path.join(input_path, f))]"
   ]
  },
  {
   "cell_type": "markdown",
   "metadata": {},
   "source": [
    "#### Process .jp2 Files\n",
    "Core function to process .jp2 files and save them as .jpeg images"
   ]
  },
  {
   "cell_type": "code",
   "execution_count": 12,
   "metadata": {},
   "outputs": [],
   "source": [
    "def process_jp2_files(path_to_image_data, output_folder, target_size):\n",
    "    jp2_files = glob.glob(os.path.join(path_to_image_data, '*.jp2'))\n",
    "    if not jp2_files:\n",
    "        logging.warning(f'No .jp2 files found in {path_to_image_data}. Skipping...')\n",
    "        return\n",
    "    \n",
    "    for jp2_file in jp2_files:\n",
    "        try:\n",
    "            processed_image = preprocess_jp2_image(jp2_file, target_size)\n",
    "            image_path = os.path.join(output_folder, os.path.basename(jp2_file).replace('.jp2', '.jpeg'))\n",
    "            cv2.imwrite(image_path, processed_image)\n",
    "        except Exception as e:\n",
    "            logging.exception(f'Error processing {jp2_file}: {str(e)}')\n"
   ]
  },
  {
   "cell_type": "markdown",
   "metadata": {},
   "source": [
    "#### Preprocess Individual .jp2 Image\n",
    "\n",
    "- resample \n",
    "- normalizes \n",
    "- resizes \n",
    "- converts images to .jpeg"
   ]
  },
  {
   "cell_type": "code",
   "execution_count": 13,
   "metadata": {},
   "outputs": [],
   "source": [
    "def preprocess_jp2_image(jp2_file, target_size):\n",
    "    with rasterio.open(jp2_file) as src:\n",
    "        image = src.read(1, resampling=Resampling.bilinear)\n",
    "\n",
    "        if image is None or image.size == 0:\n",
    "            logging.exception(f'Image cannot be read: {jp2_file}')\n",
    "            return None\n",
    "\n",
    "        # Normalize and resize\n",
    "        image = image.astype(np.float32)\n",
    "        resized_image = resize(image, target_size, anti_aliasing=True)\n",
    "        max_value = np.max(resized_image)\n",
    "        normalized_image = resized_image / max_value if max_value != 0 else resized_image\n",
    "        return (normalized_image * 255).astype(np.uint8)\n"
   ]
  },
  {
   "cell_type": "markdown",
   "metadata": {},
   "source": [
    "#### Preprocessing Workflow\n",
    "\n",
    "Process all .SAFE folders, find .jp2 images, and preprocess them."
   ]
  },
  {
   "cell_type": "code",
   "execution_count": 14,
   "metadata": {},
   "outputs": [],
   "source": [
    "def preprocess_sentinel_data(input_data_path, output_data_path, target_size):\n",
    "    ensure_output_directory(output_data_path)\n",
    "\n",
    "    folders = find_safe_folders(input_data_path)\n",
    "    if not folders:\n",
    "        logging.error(f'No folders found in {input_data_path}')\n",
    "        return\n",
    "\n",
    "    for folder in folders:\n",
    "        safe_folders = glob.glob(os.path.join(folder, '*.SAFE'))\n",
    "        if not safe_folders:\n",
    "            logging.warning(f'No .SAFE folders found in {folder}. Skipping...')\n",
    "            continue\n",
    "\n",
    "        for safe_folder in safe_folders:\n",
    "            granule_path = os.path.join(safe_folder, 'GRANULE')\n",
    "            if not os.path.exists(granule_path):\n",
    "                logging.warning(f'No GRANULE folder found in {safe_folder}. Skipping...')\n",
    "                continue\n",
    "\n",
    "            granule_folders = glob.glob(os.path.join(granule_path, '*'))\n",
    "            for granule_folder in granule_folders:\n",
    "                path_to_image_data = os.path.join(granule_folder, 'IMG_DATA')\n",
    "                if not os.path.exists(path_to_image_data):\n",
    "                    logging.warning(f'No IMG_DATA folder found in {granule_folder}. Skipping...')\n",
    "                    continue\n",
    "\n",
    "                output_folder = os.path.join(output_data_path, os.path.basename(granule_folder))\n",
    "                ensure_output_directory(output_folder)\n",
    "                process_jp2_files(path_to_image_data, output_folder, target_size)\n"
   ]
  },
  {
   "cell_type": "code",
   "execution_count": null,
   "metadata": {},
   "outputs": [],
   "source": [
    "preprocess_sentinel_data(input_data_path, output_data_path, target_size)"
   ]
  },
  {
   "cell_type": "code",
   "execution_count": null,
   "metadata": {},
   "outputs": [],
   "source": []
  }
 ],
 "metadata": {
  "kernelspec": {
   "display_name": "Python 3",
   "language": "python",
   "name": "python3"
  },
  "language_info": {
   "codemirror_mode": {
    "name": "ipython",
    "version": 3
   },
   "file_extension": ".py",
   "mimetype": "text/x-python",
   "name": "python",
   "nbconvert_exporter": "python",
   "pygments_lexer": "ipython3",
   "version": "3.10.12"
  }
 },
 "nbformat": 4,
 "nbformat_minor": 2
}
